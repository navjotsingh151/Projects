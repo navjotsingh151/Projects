{
 "cells": [
  {
   "cell_type": "markdown",
   "metadata": {},
   "source": [
    "# Recomendation System using AutoEncoder and Pytorch"
   ]
  },
  {
   "cell_type": "markdown",
   "metadata": {},
   "source": [
    "## Importing Library "
   ]
  },
  {
   "cell_type": "code",
   "execution_count": 1,
   "metadata": {},
   "outputs": [],
   "source": [
    "import numpy as np\n",
    "import os\n",
    "import pandas as pd\n",
    "import torch\n",
    "import torch.nn as nn\n",
    "import torch.optim as optim\n",
    "import torch.utils.data\n",
    "from torch.autograd import Variable\n",
    "import warnings\n",
    "\n",
    "warnings.filterwarnings('ignore')"
   ]
  },
  {
   "cell_type": "markdown",
   "metadata": {},
   "source": [
    "## Importing Dataset\n",
    "\n",
    "### 1. Movie Data"
   ]
  },
  {
   "cell_type": "code",
   "execution_count": 2,
   "metadata": {},
   "outputs": [
    {
     "name": "stdout",
     "output_type": "stream",
     "text": [
      "    0                                   1                             2\n",
      "0   1                    Toy Story (1995)   Animation|Children's|Comedy\n",
      "1   2                      Jumanji (1995)  Adventure|Children's|Fantasy\n",
      "2   3             Grumpier Old Men (1995)                Comedy|Romance\n",
      "3   4            Waiting to Exhale (1995)                  Comedy|Drama\n",
      "4   5  Father of the Bride Part II (1995)                        Comedy\n",
      "5   6                         Heat (1995)         Action|Crime|Thriller\n",
      "6   7                      Sabrina (1995)                Comedy|Romance\n",
      "7   8                 Tom and Huck (1995)          Adventure|Children's\n",
      "8   9                 Sudden Death (1995)                        Action\n",
      "9  10                    GoldenEye (1995)     Action|Adventure|Thriller\n",
      "\n",
      "Shape of Movies set  (3883, 3)\n"
     ]
    }
   ],
   "source": [
    "\n",
    "movies = pd.read_csv('ml-1m/movies.dat',\n",
    "                     sep= '::',\n",
    "                     header = None,\n",
    "                     engine = 'python',\n",
    "                     encoding = 'latin-1'\n",
    "                     )\n",
    "print(movies.head(10))\n",
    "print(\"\\nShape of Movies set \", movies.shape)"
   ]
  },
  {
   "cell_type": "markdown",
   "metadata": {},
   "source": [
    "### 2. User Dataset"
   ]
  },
  {
   "cell_type": "code",
   "execution_count": 3,
   "metadata": {},
   "outputs": [
    {
     "name": "stdout",
     "output_type": "stream",
     "text": [
      "    0  1   2   3      4\n",
      "0   1  F   1  10  48067\n",
      "1   2  M  56  16  70072\n",
      "2   3  M  25  15  55117\n",
      "3   4  M  45   7  02460\n",
      "4   5  M  25  20  55455\n",
      "5   6  F  50   9  55117\n",
      "6   7  M  35   1  06810\n",
      "7   8  M  25  12  11413\n",
      "8   9  M  25  17  61614\n",
      "9  10  F  35   1  95370\n",
      "\n",
      "Shape of user set  (6040, 5)\n"
     ]
    }
   ],
   "source": [
    "\n",
    "user = pd.read_csv('ml-1m/users.dat',\n",
    "                     sep= '::',\n",
    "                     header = None,\n",
    "                     engine = 'python',\n",
    "                     encoding = 'latin-1'\n",
    "                     )\n",
    "\n",
    "print(user.head(10))\n",
    "print(\"\\nShape of user set \", user.shape)"
   ]
  },
  {
   "cell_type": "markdown",
   "metadata": {},
   "source": [
    "### 3. Rating Dataset"
   ]
  },
  {
   "cell_type": "code",
   "execution_count": 4,
   "metadata": {},
   "outputs": [
    {
     "name": "stdout",
     "output_type": "stream",
     "text": [
      "   0     1  2          3\n",
      "0  1  1193  5  978300760\n",
      "1  1   661  3  978302109\n",
      "2  1   914  3  978301968\n",
      "3  1  3408  4  978300275\n",
      "4  1  2355  5  978824291\n",
      "5  1  1197  3  978302268\n",
      "6  1  1287  5  978302039\n",
      "7  1  2804  5  978300719\n",
      "8  1   594  4  978302268\n",
      "9  1   919  4  978301368\n",
      "\n",
      "Shape of rating set  (1000209, 4)\n"
     ]
    }
   ],
   "source": [
    "\n",
    "rating = pd.read_csv('ml-1m/ratings.dat',\n",
    "                     sep= '::',\n",
    "                     header = None,\n",
    "                     engine = 'python',\n",
    "                     encoding = 'latin-1'\n",
    "                     )\n",
    "\n",
    "print(rating.head(10))\n",
    "print(\"\\nShape of rating set \", rating.shape)"
   ]
  },
  {
   "cell_type": "markdown",
   "metadata": {},
   "source": [
    "## Preparing Training and Test set"
   ]
  },
  {
   "cell_type": "code",
   "execution_count": 6,
   "metadata": {},
   "outputs": [
    {
     "name": "stdout",
     "output_type": "stream",
     "text": [
      "Shape of Training Set : (79999, 4)\n"
     ]
    }
   ],
   "source": [
    "training_set = pd.read_csv('ml-100k/u2.base', delimiter='\\t')\n",
    "\n",
    "# converting to array\n",
    "training_set = np.array(training_set, dtype = int)\n",
    "print(\"Shape of Training Set :\", training_set.shape)"
   ]
  },
  {
   "cell_type": "code",
   "execution_count": 7,
   "metadata": {},
   "outputs": [
    {
     "name": "stdout",
     "output_type": "stream",
     "text": [
      "Shape of Test Set : (19999, 4)\n"
     ]
    }
   ],
   "source": [
    "test_set = pd.read_csv('ml-100k/u2.test', delimiter='\\t')\n",
    "\n",
    "# converting to array\n",
    "test_set = np.array(test_set, dtype = int)\n",
    "print(\"Shape of Test Set :\", test_set.shape)"
   ]
  },
  {
   "cell_type": "markdown",
   "metadata": {},
   "source": [
    "## Creating the number of user and movies"
   ]
  },
  {
   "cell_type": "code",
   "execution_count": 8,
   "metadata": {},
   "outputs": [
    {
     "name": "stdout",
     "output_type": "stream",
     "text": [
      "943\n",
      "1682\n"
     ]
    }
   ],
   "source": [
    "nb_users = int(max(max(training_set[:,0]), max(test_set[:,0])))\n",
    "print(nb_users)\n",
    "\n",
    "nb_movies = int(max(max(training_set[:,1]), max(test_set[:,1])))\n",
    "print(nb_movies)"
   ]
  },
  {
   "cell_type": "markdown",
   "metadata": {},
   "source": [
    "## Converting the data into an array with users in line and movies in columns"
   ]
  },
  {
   "cell_type": "code",
   "execution_count": 9,
   "metadata": {},
   "outputs": [],
   "source": [
    "def convert(data):\n",
    "    new_data = []\n",
    "    for id_users in range(1, nb_users + 1):\n",
    "        id_movies = data[:,1][data[:,0]==id_users]\n",
    "        id_rating = data[:, 2][data[:, 0] == id_users]\n",
    "        rating = np.zeros(nb_movies)\n",
    "        rating[id_movies-1] = id_rating\n",
    "        new_data.append(list(rating))\n",
    "    return new_data\n",
    "\n",
    "training_set = convert(training_set)\n",
    "test_set = convert(test_set)\n",
    "        "
   ]
  },
  {
   "cell_type": "markdown",
   "metadata": {},
   "source": [
    "## Converting the data into Torch tensor"
   ]
  },
  {
   "cell_type": "code",
   "execution_count": 10,
   "metadata": {},
   "outputs": [],
   "source": [
    "training_set = torch.FloatTensor(training_set)\n",
    "test_set = torch.FloatTensor(test_set)"
   ]
  },
  {
   "cell_type": "markdown",
   "metadata": {},
   "source": [
    "## Creating architecture of the NN"
   ]
  },
  {
   "cell_type": "code",
   "execution_count": 11,
   "metadata": {},
   "outputs": [],
   "source": [
    "class SAE (nn.Module):\n",
    "    def __init__(self):\n",
    "        super(SAE, self).__init__()\n",
    "        self.fc1 = nn.Linear(nb_movies, 20)\n",
    "        self.fc2 = nn.Linear(20, 10)\n",
    "        self.fc3 = nn.Linear(10, 20)\n",
    "        self.fc4 = nn.Linear(20, nb_movies)\n",
    "        self.activation = nn.Sigmoid()\n",
    "        \n",
    "    def forward(self, x ):\n",
    "        x = self.activation(self.fc1(x))\n",
    "        x = self.activation(self.fc2(x))\n",
    "        x = self.activation(self.fc3(x))\n",
    "        x = self.fc4(x)\n",
    "        return x\n",
    "    \n",
    "    def predict( self, x):\n",
    "        return self.forward(x)\n"
   ]
  },
  {
   "cell_type": "code",
   "execution_count": 12,
   "metadata": {},
   "outputs": [],
   "source": [
    "sae = SAE()\n",
    "\n",
    "criterion = nn.MSELoss()\n",
    "optimiser = optim.RMSprop(sae.parameters(), lr = 0.01 , weight_decay = 0.05)\n"
   ]
  },
  {
   "cell_type": "markdown",
   "metadata": {},
   "source": [
    "## Training the Auto Encoders"
   ]
  },
  {
   "cell_type": "code",
   "execution_count": 13,
   "metadata": {},
   "outputs": [
    {
     "name": "stdout",
     "output_type": "stream",
     "text": [
      "epoch: 1 loss: 1.2293340938615973\n",
      "epoch: 2 loss: 1.1017855710596505\n",
      "epoch: 3 loss: 1.0721662481368595\n",
      "epoch: 4 loss: 1.0606781639739096\n",
      "epoch: 5 loss: 1.0537416484485642\n",
      "epoch: 6 loss: 1.049706835224713\n",
      "epoch: 7 loss: 1.0465202582089286\n",
      "epoch: 8 loss: 1.038859802974925\n",
      "epoch: 9 loss: 1.0361730556703714\n",
      "epoch: 10 loss: 1.0307048675462784\n",
      "epoch: 11 loss: 1.0271148024870684\n",
      "epoch: 12 loss: 1.0247056100160532\n",
      "epoch: 13 loss: 1.0222927475698718\n",
      "epoch: 14 loss: 1.0142294019426505\n",
      "epoch: 15 loss: 1.0106265750376782\n",
      "epoch: 16 loss: 1.0135807947864979\n",
      "epoch: 17 loss: 1.0093992549375348\n",
      "epoch: 18 loss: 1.006880538787538\n",
      "epoch: 19 loss: 1.0030172033036275\n",
      "epoch: 20 loss: 0.9986329774491151\n",
      "epoch: 21 loss: 0.9942306648493586\n",
      "epoch: 22 loss: 0.9899248476085165\n",
      "epoch: 23 loss: 0.9870017747019566\n",
      "epoch: 24 loss: 0.986821715923769\n",
      "epoch: 25 loss: 0.9902809585895859\n",
      "epoch: 26 loss: 0.9862318911666516\n",
      "epoch: 27 loss: 0.979666624183297\n",
      "epoch: 28 loss: 0.9762574789309428\n",
      "epoch: 29 loss: 0.9726347096434301\n",
      "epoch: 30 loss: 0.9708295306116653\n",
      "epoch: 31 loss: 0.9681254633975346\n",
      "epoch: 32 loss: 0.9725826773197245\n",
      "epoch: 33 loss: 0.9665818711243277\n",
      "epoch: 34 loss: 0.967575405975325\n",
      "epoch: 35 loss: 0.9685722356411598\n",
      "epoch: 36 loss: 0.96639935163287\n",
      "epoch: 37 loss: 0.9643940344714435\n",
      "epoch: 38 loss: 0.9623547402824436\n",
      "epoch: 39 loss: 0.9580173496817129\n",
      "epoch: 40 loss: 0.9636309196373111\n",
      "epoch: 41 loss: 0.9645820019482679\n",
      "epoch: 42 loss: 0.9582885485615444\n",
      "epoch: 43 loss: 0.9555638841249282\n",
      "epoch: 44 loss: 0.9541664251415837\n",
      "epoch: 45 loss: 0.9524922784154533\n",
      "epoch: 46 loss: 0.9689944098235085\n",
      "epoch: 47 loss: 0.9628453926266533\n",
      "epoch: 48 loss: 0.9619986992424425\n",
      "epoch: 49 loss: 0.9587281243650386\n",
      "epoch: 50 loss: 0.9603545564224085\n",
      "epoch: 51 loss: 0.9597864707614024\n",
      "epoch: 52 loss: 0.9602040796884017\n",
      "epoch: 53 loss: 0.9603184026778656\n",
      "epoch: 54 loss: 0.9560814175545906\n",
      "epoch: 55 loss: 0.955058670452284\n",
      "epoch: 56 loss: 0.954089852956802\n",
      "epoch: 57 loss: 0.9530231128681247\n",
      "epoch: 58 loss: 0.957234276469738\n",
      "epoch: 59 loss: 0.9532870709686406\n",
      "epoch: 60 loss: 0.9498019152536306\n",
      "epoch: 61 loss: 0.9487433738281066\n",
      "epoch: 62 loss: 0.9485447313466091\n",
      "epoch: 63 loss: 0.9479846835214033\n",
      "epoch: 64 loss: 0.9462533104207234\n",
      "epoch: 65 loss: 0.9455326921809493\n",
      "epoch: 66 loss: 0.9430789191879011\n",
      "epoch: 67 loss: 0.9423395415803333\n",
      "epoch: 68 loss: 0.9451387467842234\n",
      "epoch: 69 loss: 0.9443497078747574\n",
      "epoch: 70 loss: 0.9398052675524604\n",
      "epoch: 71 loss: 0.9382265807066373\n",
      "epoch: 72 loss: 0.9367144576669293\n",
      "epoch: 73 loss: 0.9367979299823369\n",
      "epoch: 74 loss: 0.9350133181401099\n",
      "epoch: 75 loss: 0.944956896776538\n",
      "epoch: 76 loss: 0.9435888314183818\n",
      "epoch: 77 loss: 0.9482072651201093\n",
      "epoch: 78 loss: 0.9488877617881633\n",
      "epoch: 79 loss: 0.9461689172997503\n",
      "epoch: 80 loss: 0.9403637775181879\n",
      "epoch: 81 loss: 0.9372452497956891\n",
      "epoch: 82 loss: 0.9351668161891739\n",
      "epoch: 83 loss: 0.9401445817377506\n",
      "epoch: 84 loss: 0.9416626827784144\n",
      "epoch: 85 loss: 0.9368882977332172\n",
      "epoch: 86 loss: 0.933498987622768\n",
      "epoch: 87 loss: 0.9317942903898018\n",
      "epoch: 88 loss: 0.9300554566757532\n",
      "epoch: 89 loss: 0.9295111941259103\n",
      "epoch: 90 loss: 0.9283038508951217\n",
      "epoch: 91 loss: 0.9265759922342326\n",
      "epoch: 92 loss: 0.9269621814728498\n",
      "epoch: 93 loss: 0.9252094293225367\n",
      "epoch: 94 loss: 0.9233402943315975\n",
      "epoch: 95 loss: 0.9237016807313893\n",
      "epoch: 96 loss: 0.922602776168083\n",
      "epoch: 97 loss: 0.9335390514036174\n",
      "epoch: 98 loss: 0.9325786930453729\n",
      "epoch: 99 loss: 0.9300133114844725\n",
      "epoch: 100 loss: 0.9342004316569946\n",
      "epoch: 101 loss: 0.9334255904708098\n",
      "epoch: 102 loss: 0.9299932700532829\n",
      "epoch: 103 loss: 0.9253620394794448\n",
      "epoch: 104 loss: 0.9228221655579681\n",
      "epoch: 105 loss: 0.9218114185890081\n",
      "epoch: 106 loss: 0.9239400957936988\n",
      "epoch: 107 loss: 0.9210318382189852\n",
      "epoch: 108 loss: 0.9224294401595525\n",
      "epoch: 109 loss: 0.9250568399963093\n",
      "epoch: 110 loss: 0.9199729243803129\n",
      "epoch: 111 loss: 0.9182769346710152\n",
      "epoch: 112 loss: 0.9153270075686275\n",
      "epoch: 113 loss: 0.9144910778787553\n",
      "epoch: 114 loss: 0.9235693889232177\n",
      "epoch: 115 loss: 0.9259015278101116\n",
      "epoch: 116 loss: 0.9207365472080219\n",
      "epoch: 117 loss: 0.9201966663020202\n",
      "epoch: 118 loss: 0.9205703226321389\n",
      "epoch: 119 loss: 0.9171754788064295\n",
      "epoch: 120 loss: 0.9139641140148669\n",
      "epoch: 121 loss: 0.9138411862478968\n",
      "epoch: 122 loss: 0.9121740129900777\n",
      "epoch: 123 loss: 0.9119078325646023\n",
      "epoch: 124 loss: 0.9152031197673608\n",
      "epoch: 125 loss: 0.9143325763797561\n",
      "epoch: 126 loss: 0.9119257379925885\n",
      "epoch: 127 loss: 0.9076595236182393\n",
      "epoch: 128 loss: 0.9063289570228634\n",
      "epoch: 129 loss: 0.9045042038200544\n",
      "epoch: 130 loss: 0.9044017056162696\n",
      "epoch: 131 loss: 0.9033511726718289\n",
      "epoch: 132 loss: 0.9024496732050412\n",
      "epoch: 133 loss: 0.900915863099256\n",
      "epoch: 134 loss: 0.9034907688366774\n",
      "epoch: 135 loss: 0.9072749443454834\n",
      "epoch: 136 loss: 0.9038813783625551\n",
      "epoch: 137 loss: 0.90439335754394\n",
      "epoch: 138 loss: 0.9021089454370864\n",
      "epoch: 139 loss: 0.9018206368580739\n",
      "epoch: 140 loss: 0.9008982696960731\n",
      "epoch: 141 loss: 0.900073767704356\n",
      "epoch: 142 loss: 0.899169914970812\n",
      "epoch: 143 loss: 0.8995234745692007\n",
      "epoch: 144 loss: 0.8990808802395289\n",
      "epoch: 145 loss: 0.8973524898563081\n",
      "epoch: 146 loss: 0.8968157861149346\n",
      "epoch: 147 loss: 0.8968007466836622\n",
      "epoch: 148 loss: 0.895936784057474\n",
      "epoch: 149 loss: 0.8951484357083033\n",
      "epoch: 150 loss: 0.8949901160681139\n",
      "epoch: 151 loss: 0.8948908782706366\n",
      "epoch: 152 loss: 0.8936363430629877\n",
      "epoch: 153 loss: 0.8932816945799302\n",
      "epoch: 154 loss: 0.8928407913715823\n",
      "epoch: 155 loss: 0.8925061215988312\n",
      "epoch: 156 loss: 0.8931875594898675\n",
      "epoch: 157 loss: 0.8922362220476487\n",
      "epoch: 158 loss: 0.89116017246611\n",
      "epoch: 159 loss: 0.8904720947241351\n",
      "epoch: 160 loss: 0.8898241123948245\n",
      "epoch: 161 loss: 0.8905829509054436\n",
      "epoch: 162 loss: 0.8897878300085345\n",
      "epoch: 163 loss: 0.888834061466654\n",
      "epoch: 164 loss: 0.8885586684179535\n",
      "epoch: 165 loss: 0.8889990200873601\n",
      "epoch: 166 loss: 0.888974978666189\n",
      "epoch: 167 loss: 0.8873635513655569\n",
      "epoch: 168 loss: 0.888087728869333\n",
      "epoch: 169 loss: 0.8873147983051368\n",
      "epoch: 170 loss: 0.887842030867491\n",
      "epoch: 171 loss: 0.8866196923418336\n",
      "epoch: 172 loss: 0.9074659637268518\n",
      "epoch: 173 loss: 0.9004225631394974\n",
      "epoch: 174 loss: 0.8992284108921038\n",
      "epoch: 175 loss: 0.8966989493080059\n",
      "epoch: 176 loss: 0.8963015790280505\n",
      "epoch: 177 loss: 0.9005002739985546\n",
      "epoch: 178 loss: 0.8953158693797622\n",
      "epoch: 179 loss: 0.8957326923093468\n",
      "epoch: 180 loss: 0.8912526760556376\n",
      "epoch: 181 loss: 0.8908804817902226\n",
      "epoch: 182 loss: 0.8893665097035184\n",
      "epoch: 183 loss: 0.8874778353280223\n",
      "epoch: 184 loss: 0.8865562696731535\n",
      "epoch: 185 loss: 0.8860258786818572\n",
      "epoch: 186 loss: 0.8857533245409591\n",
      "epoch: 187 loss: 0.8848842959428729\n",
      "epoch: 188 loss: 0.8849594973425432\n",
      "epoch: 189 loss: 0.885614756854917\n",
      "epoch: 190 loss: 0.8845474041279374\n",
      "epoch: 191 loss: 0.8840468482085568\n",
      "epoch: 192 loss: 0.884905979458738\n",
      "epoch: 193 loss: 0.8841858651120844\n",
      "epoch: 194 loss: 0.8846778168760376\n",
      "epoch: 195 loss: 0.8832164323866328\n",
      "epoch: 196 loss: 0.8833927064572965\n",
      "epoch: 197 loss: 0.8820589272438342\n",
      "epoch: 198 loss: 0.8820350081965915\n",
      "epoch: 199 loss: 0.882041006896374\n",
      "epoch: 200 loss: 0.8818429223287781\n"
     ]
    }
   ],
   "source": [
    "nb_epoch = 200\n",
    "for epoch in range(1, nb_epoch+1):\n",
    "    train_loss = 0 \n",
    "    s = 0. # counter\n",
    "    for id_user in range(nb_users):\n",
    "        # Make it a batch of input vectors (reshape in keras )\n",
    "        input = Variable(torch.FloatTensor(training_set[id_user])).unsqueeze(0)\n",
    "        target = input.clone()\n",
    "        if torch.sum(target.data > 0 ) > 0 :\n",
    "            output = sae.forward(input)\n",
    "            target.required_grad = False   # Reducing computation by not performing Gradient Descent on target variable\n",
    "            output[target == 0 ] = 0  # No Weights update for Movies without rating\n",
    "            loss = criterion(output, target)  # Loss variable for predicted and actual ratings\n",
    "            loss.backward()  # Helps to find the direction of weight updation ( + or - ) during back propagation\n",
    "            mean_corrector = nb_movies/ float( torch.sum(target.data > 0) + 1e-10 ) # find the mean for the movies given rating . Added 1e-10 to eliminate scenarios of infinite computation\n",
    "            optimiser.step()  # decides the magnitude of weight updation during back propagation \n",
    "            train_loss += np.sqrt(loss.data.item()* mean_corrector)\n",
    "            s += 1.\n",
    "    print(f'epoch: {epoch} loss: {train_loss/s}')\n",
    "            \n",
    "    "
   ]
  },
  {
   "cell_type": "markdown",
   "metadata": {},
   "source": [
    "# Predicting for the test set loss"
   ]
  },
  {
   "cell_type": "code",
   "execution_count": 14,
   "metadata": {},
   "outputs": [
    {
     "name": "stdout",
     "output_type": "stream",
     "text": [
      " Test loss: 1.0356580659011714\n"
     ]
    }
   ],
   "source": [
    "test_loss = 0 \n",
    "s = 0. # counter\n",
    "for id_user in range(nb_users):\n",
    "    # Make it a batch of input vectors (reshape in keras )\n",
    "    input = Variable(torch.FloatTensor(training_set[id_user])).unsqueeze(0)\n",
    "    target = Variable(torch.FloatTensor(test_set[id_user])).unsqueeze(0)\n",
    "    if torch.sum(target.data > 0 ) > 0 :\n",
    "        output = sae.forward(input)\n",
    "#         target.required_grad = False   # Reducing computation by not performing Gradient Descent on target variable\n",
    "        output[target == 0 ] = 0  # No Weights update for Movies without rating\n",
    "        loss = criterion(output, target)  # Loss variable for predicted and actual ratings\n",
    "        mean_corrector = nb_movies/ float( torch.sum(target.data > 0) + 1e-10 ) # find the mean for the movies given rating . Added 1e-10 to eliminate scenarios of infinite computation\n",
    "        test_loss += np.sqrt(loss.data.item()* mean_corrector)\n",
    "        s += 1.\n",
    "        \n",
    "print(f' Test loss: {test_loss/s}')\n"
   ]
  },
  {
   "cell_type": "markdown",
   "metadata": {},
   "source": [
    "# Saving the model"
   ]
  },
  {
   "cell_type": "code",
   "execution_count": 15,
   "metadata": {},
   "outputs": [],
   "source": [
    "import time\n",
    "if 1 == 2 :\n",
    "    torch.save(sae, f'AutoEncoder_{int(time.time())}.pkl') # you can use one of the function to save the training model\n"
   ]
  },
  {
   "cell_type": "markdown",
   "metadata": {},
   "source": [
    "## Prediction Block for the recommending movie to user"
   ]
  },
  {
   "cell_type": "code",
   "execution_count": 16,
   "metadata": {},
   "outputs": [],
   "source": [
    "sae = torch.load('AutoEncoder_1562564762.pkl')\n",
    "from operator import itemgetter\n",
    "\n",
    "def prediction (user_id , nb_recommendation = 10 ):\n",
    "    input_user = Variable(torch.FloatTensor(test_set[user_id - 1])).unsqueeze(0)\n",
    "    predict_output = sae.predict(input_user)\n",
    "    predict_output = np.array(predict_output.data.numpy())\n",
    "    prediction_result = np.row_stack([input_user, predict_output])\n",
    "    \n",
    "    movie_index = np.array([i for i in range(1, nb_movies + 1)]) #Temporary movie index container \n",
    "    recommend = np.row_stack([np.array(prediction_result),movie_index]) #Stacking the list for the prediction_result\n",
    "    recommend = recommend.T.tolist() \n",
    "    \n",
    "    # Fetching the movies for the user which is not viewed and can be used for the recomendation\n",
    "    movies_not_viewed = []\n",
    "    for i in range(0, len(recommend)):\n",
    "        if recommend[i][0]==0:\n",
    "            movies_not_viewed.append(recommend[i])\n",
    "\n",
    "    movies_not_viewed = sorted(movies_not_viewed , key=itemgetter(1), reverse=True)\n",
    "    \n",
    "    # Indexes for non Viewed movies\n",
    "    recommend_movie_index = []\n",
    "    for i in range(nb_recommend):\n",
    "        recommend_movie_index.append(movies_not_viewed[i][2])\n",
    "        \n",
    "    # Fetching Names for the top recommended movies\n",
    "    recommend_movie_names = []\n",
    "    for i in recommend_movie_index:\n",
    "        name = movies[movies.iloc[:,0] == int(i)].values.tolist()[0]\n",
    "        recommend_movie_names.append(name)\n",
    "\n",
    "    return recommend_movie_names\n"
   ]
  },
  {
   "cell_type": "markdown",
   "metadata": {},
   "source": [
    "## Recommendations "
   ]
  },
  {
   "cell_type": "code",
   "execution_count": 31,
   "metadata": {},
   "outputs": [
    {
     "name": "stdout",
     "output_type": "stream",
     "text": [
      "Top 20 movies recommendation for User 578 :\n",
      "\n",
      "    Rec.ID Movie_id                                         Movie_Name                       Features\n",
      "         1     1426                            Zeus and Roxanne (1997)                     Children's\n",
      "         2      814                          Boy Called Hate, A (1995)                          Drama\n",
      "         3     1467                               Salut cousin! (1996)                   Comedy|Drama\n",
      "         4     1377                              Batman Returns (1992)  Action|Adventure|Comedy|Crime\n",
      "         5      868                          Death in Brunswick (1991)                         Comedy\n",
      "         6     1500                         Grosse Pointe Blank (1997)                   Comedy|Crime\n",
      "         7     1629                             MatchMaker, The (1997)                 Comedy|Romance\n",
      "         8     1628                                Locusts, The (1997)                          Drama\n",
      "         9     1398                             In Love and War (1996)                    Romance|War\n",
      "        10     1122                            Plutonium Circus (1995)                    Documentary\n",
      "        11     1201             Good, The Bad and The Ugly, The (1966)                 Action|Western\n",
      "        12     1450 Prisoner of the Mountains (Kavkazsky Plennik) (1996)                            War\n",
      "        13     1368 Forbidden Christ, The (Cristo proibito, Il) (1950)                          Drama\n",
      "        14     1242                                       Glory (1989)               Action|Drama|War\n",
      "        15     1294                                     M*A*S*H (1970)                     Comedy|War\n",
      "        16      837                                     Matilda (1996)              Children's|Comedy\n",
      "        17     1065                      Woman in Question, The (1950)                        Mystery\n",
      "        18      113                            Before and After (1996)                  Drama|Mystery\n",
      "        19     1653                                     Gattaca (1997)          Drama|Sci-Fi|Thriller\n",
      "        20      466                        Hot Shots! Part Deux (1993)              Action|Comedy|War\n"
     ]
    }
   ],
   "source": [
    "input_user = 578\n",
    "nb_recommend = 20\n",
    "\n",
    "movie_names = prediction(input_user, nb_recommend)\n",
    "\n",
    "print(f\"Top {nb_recommend} movies recommendation for User {input_user} :\\n\")\n",
    "\n",
    "cnt=1\n",
    "print(\"{:>10} {:>8} {:>50} {:>30}\".format('Rec.ID','Movie_id', 'Movie_Name', 'Features'))\n",
    "for i in movie_names:\n",
    "    print(\"{:>10} {:>8} {:>50} {:>30}\".format(cnt,i[0], i[1], i[2]))\n",
    "    cnt += 1"
   ]
  },
  {
   "cell_type": "markdown",
   "metadata": {},
   "source": [
    "## Movies User already watched and rated 5 star"
   ]
  },
  {
   "cell_type": "code",
   "execution_count": 32,
   "metadata": {},
   "outputs": [],
   "source": [
    "rating_user = rating[(rating[2] == 5) & (rating[0]== input_user)][[0,1,2]]\n",
    "rating_user.rename(columns = {0 : 'user_id', 1: 'movie_id' , 2: 'ratings'}, inplace = True)\n",
    "movie_user = movies.rename(columns = {0 : 'movie_id', 1: 'movie_name' , 2: 'features'})\n",
    "\n",
    "movie_user_watched_5_star = pd.merge(rating_user,movie_user[['movie_name','features']],left_on=rating_user['movie_id'], right_on=movie_user['movie_id'])\n",
    "movie_user_watched_5_star.drop(['key_0'], axis=1, inplace=True)\n",
    "movie_user_watched_5_star_array =np.array(movie_user_watched_5_star)\n",
    "\n"
   ]
  },
  {
   "cell_type": "markdown",
   "metadata": {},
   "source": [
    "## Word Cloud Movie Features"
   ]
  },
  {
   "cell_type": "code",
   "execution_count": 33,
   "metadata": {},
   "outputs": [],
   "source": [
    "from wordcloud  import WordCloud, STOPWORDS\n",
    "import matplotlib.pyplot as plt\n",
    "\n",
    "def wordcloud_draw(data, color = 'black'):\n",
    "    words = ' '.join(data)\n",
    "    cleaned_word = \" \".join([word for word in words.split()\n",
    "                            if 'http' not in word\n",
    "                                and not word.startswith('@')\n",
    "                                and not word.startswith('#')\n",
    "                                and word != 'RT'\n",
    "                            ])\n",
    "    wordcloud = WordCloud(stopwords=STOPWORDS,\n",
    "                      background_color=color,\n",
    "                      width=2500,\n",
    "                      height=2000\n",
    "                     ).generate(cleaned_word)\n",
    "    plt.figure(1,figsize=(13, 13))\n",
    "    plt.imshow(wordcloud)\n",
    "    plt.axis('off')\n",
    "    plt.show()"
   ]
  },
  {
   "cell_type": "markdown",
   "metadata": {},
   "source": [
    "## Wordcloud for Movie Watched by user"
   ]
  },
  {
   "cell_type": "code",
   "execution_count": 36,
   "metadata": {},
   "outputs": [
    {
     "name": "stdout",
     "output_type": "stream",
     "text": [
      "Watched Movies Features \n",
      " ********* \n",
      " \n"
     ]
    },
    {
     "data": {
      "image/png": "[encoded data removed]",
      "text/plain": [
       "<Figure size 936x936 with 1 Axes>"
      ]
     },
     "metadata": {
      "needs_background": "light"
     },
     "output_type": "display_data"
    }
   ],
   "source": [
    "target_features = []\n",
    "# print(movie_user_watched_5_star_array[4])\n",
    "\n",
    "for movie_name in movie_user_watched_5_star_array :\n",
    "    \n",
    "    if movie_name[4].find(\"|\") != -1:\n",
    "        for feature in movie_name[4].split('|'):\n",
    "            target_features.append(feature)\n",
    "            \n",
    "    else:\n",
    "        target_features.append(movie_name[4])\n",
    "target_features\n",
    "\n",
    "print(\"Watched Movies Features \\n ********* \\n \")\n",
    "wordcloud_draw(target_features,'white')"
   ]
  },
  {
   "cell_type": "markdown",
   "metadata": {},
   "source": [
    "## Wordcloud for Movie Predicted for User"
   ]
  },
  {
   "cell_type": "code",
   "execution_count": 38,
   "metadata": {},
   "outputs": [
    {
     "name": "stdout",
     "output_type": "stream",
     "text": [
      "Recommended Movies Features  \n",
      " ********* \n",
      " \n"
     ]
    },
    {
     "data": {
      "image/png": "[encoded data removed]",
      "text/plain": [
       "<Figure size 936x936 with 1 Axes>"
      ]
     },
     "metadata": {
      "needs_background": "light"
     },
     "output_type": "display_data"
    }
   ],
   "source": [
    "pred_features = []\n",
    "\n",
    "for movie_name in movie_names :\n",
    "    \n",
    "    if movie_name[2].find(\"|\") != -1:\n",
    "        for feature in movie_name[2].split('|'):\n",
    "            pred_features.append(feature)\n",
    "            \n",
    "    else:\n",
    "        pred_features.append(movie_name[2])\n",
    "pred_features\n",
    "        \n",
    "\n",
    "print(\"Recommended Movies Features  \\n ********* \\n \")\n",
    "wordcloud_draw(pred_features,'black')"
   ]
  },
  {
   "cell_type": "markdown",
   "metadata": {},
   "source": [
    "# Conclusion :\n",
    "\n",
    "\n",
    "Word Cloud shows clearly that movie recommended to User hasd almost same features to the movie user rated 5 star and it is likely that he/she will likely to watch the recommended movies"
   ]
  }
 ],
 "metadata": {
  "kernelspec": {
   "display_name": "Python 3",
   "language": "python",
   "name": "python3"
  },
  "language_info": {
   "codemirror_mode": {
    "name": "ipython",
    "version": 3
   },
   "file_extension": ".py",
   "mimetype": "text/x-python",
   "name": "python",
   "nbconvert_exporter": "python",
   "pygments_lexer": "ipython3",
   "version": "3.7.3"
  }
 },
 "nbformat": 4,
 "nbformat_minor": 2
}
